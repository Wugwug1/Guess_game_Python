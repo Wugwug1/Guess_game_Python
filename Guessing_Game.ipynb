{
 "cells": [
  {
   "cell_type": "code",
   "execution_count": null,
   "id": "2dbfbcdc-3b8a-47ed-ae50-dc2a906c6306",
   "metadata": {},
   "outputs": [],
   "source": [
    "import random\n",
    "answer = random.randint(0,100)"
   ]
  },
  {
   "cell_type": "code",
   "execution_count": null,
   "id": "83ac9378-585b-4878-b04b-fc4d124a64ea",
   "metadata": {},
   "outputs": [],
   "source": [
    "print(\"Hello, this is the Guessing Game made by Wugwug1\") \n",
    "print(\"Pick a Number between 1-100 and the Game will tell you if you are close or not\")\n",
    "guesses = [0]"
   ]
  },
  {
   "cell_type": "code",
   "execution_count": null,
   "id": "d58f4a65-72bb-4d54-95ed-ccc0cd580b7d",
   "metadata": {},
   "outputs": [],
   "source": [
    "while True:\n",
    "    guess = int(input(\"I´m thinking of a Number between 1 and 100. \\n What is your guess?\"))\n",
    "    if guess < 1 or guess >100:\n",
    "        print(\"WARNING!!! This is not a valid number, please use a number between 1-100\")\n",
    "        continue\n",
    "    \n",
    "    break"
   ]
  },
  {
   "cell_type": "code",
   "execution_count": null,
   "id": "fed8eb21-4b45-45fe-a43d-f3fd6d4b1cfc",
   "metadata": {},
   "outputs": [],
   "source": [
    "while True:\n",
    "    guess = int(input(\"I´m thinking of a Number between 1 and 100. \\n What is your guess?\"))\n",
    "    \n",
    "    if guess < 1 or guess >100:\n",
    "        print(\"WARNING!!! This is not a valid number, please use a number between 1-100\")\n",
    "        continue\n",
    "        \n",
    "    if guess == answer:\n",
    "            print(\"YOU GOT IT!!! WELL PLAYED!\")\n",
    "            break\n",
    "    \n",
    "    guesses.append(guess)\n",
    "        \n",
    "    if guesses[-2]:\n",
    "        if abs(answer-guess) < abs(answer-guesses[-2]):\n",
    "            print(\"GETTING CLOSER!\")\n",
    "        else:\n",
    "            print(\"OH NO YOURE MOVING AWAY!\")\n",
    "                    \n",
    "    else:\n",
    "        if abs(answer-guess) <= 10:\n",
    "            print(\"Kinda close but you can do better than that...\")\n",
    "        else:\n",
    "            print(\"Ouch... thats pretty far away ngl\")\n"
   ]
  },
  {
   "cell_type": "code",
   "execution_count": null,
   "id": "19428fcb-bcc3-4681-8d78-26db97d15235",
   "metadata": {},
   "outputs": [],
   "source": []
  }
 ],
 "metadata": {
  "kernelspec": {
   "display_name": "Python 3 (ipykernel)",
   "language": "python",
   "name": "python3"
  },
  "language_info": {
   "codemirror_mode": {
    "name": "ipython",
    "version": 3
   },
   "file_extension": ".py",
   "mimetype": "text/x-python",
   "name": "python",
   "nbconvert_exporter": "python",
   "pygments_lexer": "ipython3",
   "version": "3.12.7"
  }
 },
 "nbformat": 4,
 "nbformat_minor": 5
}
